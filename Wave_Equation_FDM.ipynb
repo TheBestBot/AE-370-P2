{
 "cells": [
  {
   "cell_type": "code",
   "execution_count": null,
   "id": "554f1c33",
   "metadata": {},
   "outputs": [],
   "source": [
    "import numpy as np\n",
    "import sympy as syp\n",
    "import matplotlib.pyplot as plt\n",
    "from matplotlib import animation\n"
   ]
  },
  {
   "cell_type": "code",
   "execution_count": 10,
   "id": "72c48599",
   "metadata": {},
   "outputs": [],
   "source": [
    "\n",
    "Lx, Ly = 1.0, 1.0        # size\n",
    "Nx, Ny = 100, 100        # number of grid points\n",
    "c = 1.0                  # wave speed\n",
    "T = 5.0                  # total time\n",
    "\n",
    "\n",
    "x = np.linspace(0, Lx, Nx)\n",
    "y = np.linspace(0, Ly, Ny)\n",
    "Dx = x[1] - x[0]\n",
    "Dy = y[1] - y[0]\n",
    "Dt = 0.4 * min(Dx, Dy) / c\n",
    "Nt = int(T / Dt)\n",
    "\n",
    "\n",
    "# Initialize empty fields\n",
    "u = np.zeros((Nx, Ny))\n",
    "u_new = np.zeros((Nx, Ny))\n",
    "u_old = np.zeros((Nx, Ny))\n",
    "\n",
    "# Add in motion to center\n",
    "X, Y = np.meshgrid(x, y, indexing='ij')\n",
    "u = np.exp(-100 * ((X - Lx/2)**2 + (Y - Ly/2)**2))\n",
    "u_old = np.copy(u)\n",
    "\n",
    "\n",
    "# Solve IVBP\n",
    "frames = []\n",
    "for i in range(1, Nx-1):\n",
    "    for j in range(1, Ny-1):\n",
    "        laplace = ((u[i+1, j] - 2*u[i, j] + u[i-1, j]) / Dx**2 +\n",
    "                   (u[i, j+1] - 2*u[i, j] + u[i, j-1]) / Dy**2)\n",
    "        u_new[i, j] = u[i, j] + 0.5 * Dt**2 * c**2 * laplace\n",
    "\n",
    "frames.append(u.copy())\n",
    "\n",
    "for n in range(1, Nt):\n",
    "    for i in range(1, Nx-1):\n",
    "        for j in range(1, Ny-1):\n",
    "            laplace = ((u[i+1, j] - 2*u[i, j] + u[i-1, j]) / Dx**2 +\n",
    "                       (u[i, j+1] - 2*u[i, j] + u[i, j-1]) / Dy**2)\n",
    "            u_new[i, j] = 2*u[i, j] - u_old[i, j] + Dt**2 * c**2 * laplace\n",
    "\n",
    "    u_old[:], u[:] = u[:], u_new[:]\n",
    "\n",
    "    if n % 10 == 0:\n",
    "        frames.append(u.copy())\n"
   ]
  },
  {
   "cell_type": "code",
   "execution_count": 11,
   "id": "1063eb77",
   "metadata": {},
   "outputs": [],
   "source": [
    "# Create video\n",
    "fig, ax = plt.subplots(figsize=(6, 5))\n",
    "cax = ax.pcolormesh(X, Y, frames[0], shading='auto', cmap='viridis', vmin=-1, vmax=1)\n",
    "fig.colorbar(cax)\n",
    "\n",
    "def animate(i):\n",
    "    cax.set_array(frames[i].ravel())\n",
    "    return cax,\n",
    "\n",
    "ani = animation.FuncAnimation(fig, animate, frames=len(frames), interval=50, blit=True)\n",
    "\n",
    "ani.save(\"wave_propagation.mp4\", writer=\"ffmpeg\")\n",
    "plt.close()\n"
   ]
  },
  {
   "cell_type": "code",
   "execution_count": null,
   "id": "5d9ee493",
   "metadata": {},
   "outputs": [],
   "source": []
  }
 ],
 "metadata": {
  "kernelspec": {
   "display_name": "ae353",
   "language": "python",
   "name": "python3"
  },
  "language_info": {
   "codemirror_mode": {
    "name": "ipython",
    "version": 3
   },
   "file_extension": ".py",
   "mimetype": "text/x-python",
   "name": "python",
   "nbconvert_exporter": "python",
   "pygments_lexer": "ipython3",
   "version": "3.13.1"
  }
 },
 "nbformat": 4,
 "nbformat_minor": 5
}
