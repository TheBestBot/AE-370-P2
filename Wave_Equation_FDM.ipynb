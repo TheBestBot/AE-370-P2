{
 "cells": [
  {
   "cell_type": "code",
   "execution_count": 33,
   "id": "554f1c33",
   "metadata": {},
   "outputs": [],
   "source": [
    "import numpy as np\n",
    "import sympy as syp\n",
    "import matplotlib.pyplot as plt\n",
    "from matplotlib import animation\n",
    "from mpl_toolkits.mplot3d import Axes3D\n"
   ]
  },
  {
   "cell_type": "code",
   "execution_count": 34,
   "id": "cbc7d12a",
   "metadata": {},
   "outputs": [],
   "source": [
    "def compute_total_energy(u, u_old, Dx, Dy, Dt, c):\n",
    "    du_dt = (u - u_old) / Dt\n",
    "    kinetic = 0.5 * du_dt**2\n",
    "\n",
    "    du_dx = (np.roll(u, -1, axis=0) - np.roll(u, 1, axis=0)) / (2 * Dx)\n",
    "    du_dy = (np.roll(u, -1, axis=1) - np.roll(u, 1, axis=1)) / (2 * Dy)\n",
    "    potential = 0.5 * c**2 * (du_dx**2 + du_dy**2)\n",
    "\n",
    "    total_energy = np.sum(kinetic + potential) * Dx * Dy\n",
    "    return total_energy\n"
   ]
  },
  {
   "cell_type": "code",
   "execution_count": null,
   "id": "72c48599",
   "metadata": {},
   "outputs": [],
   "source": [
    "Lx, Ly = 1.0, 1.0        # size\n",
    "Nx, Ny = 100, 100        # number of grid points\n",
    "c = 1.0                  # wave speed\n",
    "T = 10.0                  # total time\n",
    "\n",
    "\n",
    "x = np.linspace(0, Lx, Nx)\n",
    "y = np.linspace(0, Ly, Ny)\n",
    "Dx = x[1] - x[0]\n",
    "Dy = y[1] - y[0]\n",
    "Dt = 0.4 * min(Dx, Dy) / c\n",
    "Nt = int(T / Dt)\n",
    "\n",
    "\n",
    "# Initialize empty fields\n",
    "u = np.zeros((Nx, Ny))\n",
    "u_new = np.zeros((Nx, Ny))\n",
    "u_old = np.zeros((Nx, Ny))\n",
    "\n",
    "# Add in motion to center\n",
    "X, Y = np.meshgrid(x, y, indexing='ij')\n",
    "u = np.exp(-100 * ((X - Lx/2)**2 + (Y - Ly/2)**2))\n",
    "u_old = np.copy(u)\n",
    "\n",
    "# # Initial condition: right-traveling sine-modulated wave\n",
    "# X, Y = np.meshgrid(x, y, indexing='ij')\n",
    "# u = np.sin(2 * np.pi * X / Lx) * np.exp(-100 * (Y - Ly/2)**2)\n",
    "# u_old = u - Dt * c * (2 * np.pi / Lx) * np.cos(2 * np.pi * X / Lx) * np.exp(-100 * (Y - Ly/2)**2)\n",
    "\n",
    "# # Single wave??????\n",
    "# wave_profile = np.sin(2 * np.pi * x / Lx)\n",
    "# u = np.repeat(wave_profile[:, np.newaxis], Ny, axis=1)  # (Nx, Ny)\n",
    "# velocity_profile = -Dt * c * (2 * np.pi / Lx) * np.cos(2 * np.pi * x / Lx)\n",
    "# u_old = np.repeat((wave_profile + velocity_profile)[:, np.newaxis], Ny, axis=1)\n",
    "\n",
    "\n",
    "# Solve IVBP\n",
    "frames = []\n",
    "energies = []\n",
    "times = []\n",
    "\n",
    "for i in range(1, Nx-1):\n",
    "    for j in range(1, Ny-1):\n",
    "        laplace = ((u[i+1, j] - 2*u[i, j] + u[i-1, j]) / Dx**2 +\n",
    "                   (u[i, j+1] - 2*u[i, j] + u[i, j-1]) / Dy**2)\n",
    "        u_new[i, j] = u[i, j] + 0.5 * Dt**2 * c**2 * laplace\n",
    "\n",
    "frames.append(u.copy())\n",
    "\n",
    "for n in range(1, Nt):\n",
    "    for i in range(1, Nx-1):\n",
    "        for j in range(1, Ny-1):\n",
    "            laplace = ((u[i+1, j] - 2*u[i, j] + u[i-1, j]) / Dx**2 +\n",
    "                       (u[i, j+1] - 2*u[i, j] + u[i, j-1]) / Dy**2)\n",
    "            u_new[i, j] = 2*u[i, j] - u_old[i, j] + Dt**2 * c**2 * laplace\n",
    "\n",
    "    u_old[:], u[:] = u[:], u_new[:]\n",
    "\n",
    "    if n % 10 == 0:\n",
    "        frames.append(u.copy())\n",
    "        energy = compute_total_energy(u, u_old, Dx, Dy, Dt, c)\n",
    "        energies.append(energy)\n",
    "        times.append(n * Dt)\n",
    "\n"
   ]
  },
  {
   "cell_type": "code",
   "execution_count": 36,
   "id": "1063eb77",
   "metadata": {},
   "outputs": [],
   "source": [
    "# Create video\n",
    "fig, ax = plt.subplots(figsize=(6, 5))\n",
    "cax = ax.pcolormesh(X, Y, frames[0], shading='auto', cmap='viridis', vmin=-1, vmax=1)\n",
    "fig.colorbar(cax)\n",
    "\n",
    "def animate(i):\n",
    "    cax.set_array(frames[i].ravel())\n",
    "    return cax,\n",
    "\n",
    "ani = animation.FuncAnimation(fig, animate, frames=len(frames), interval=100, blit=True)\n",
    "\n",
    "ani.save(\"wave_propagation.mp4\", writer=\"ffmpeg\")\n",
    "plt.close()\n"
   ]
  },
  {
   "cell_type": "code",
   "execution_count": 37,
   "id": "5d9ee493",
   "metadata": {},
   "outputs": [],
   "source": [
    "# Create figure and 3D axes\n",
    "fig = plt.figure(figsize=(6, 5))\n",
    "ax = fig.add_subplot(111, projection='3d')\n",
    "\n",
    "\n",
    "surf = [ax.plot_surface(X, Y, frames[0], cmap='viridis', vmin=-1, vmax=1)]\n",
    "ax.set_zlim(-1, 1)\n",
    "def animate(i):\n",
    "    surf[0].remove()\n",
    "    surf[0] = ax.plot_surface(X, Y, frames[i], cmap='viridis', vmin=-1, vmax=1)\n",
    "    return surf[0],\n",
    "\n",
    "ani = animation.FuncAnimation(fig, animate, frames=len(frames), interval=100, blit=False)\n",
    "\n",
    "ani.save(\"wave_propagation_3d.mp4\", writer=\"ffmpeg\")\n",
    "plt.close()\n"
   ]
  },
  {
   "cell_type": "code",
   "execution_count": null,
   "id": "0fa18af6",
   "metadata": {},
   "outputs": [
    {
     "data": {
      "image/png": "[encoded data removed]",
      "text/plain": [
       "<Figure size 640x480 with 1 Axes>"
      ]
     },
     "metadata": {},
     "output_type": "display_data"
    }
   ],
   "source": [
    "# Plot Energy\n",
    "plt.figure()\n",
    "plt.plot(times, energies)\n",
    "plt.xlabel('Time [s]')\n",
    "plt.ylabel('Total Energy')\n",
    "plt.title('Energy vs Time')\n",
    "plt.grid(True)\n",
    "plt.ylim(bottom=0)\n",
    "plt.show()"
   ]
  },
  {
   "cell_type": "code",
   "execution_count": null,
   "id": "7753e860",
   "metadata": {},
   "outputs": [],
   "source": []
  }
 ],
 "metadata": {
  "kernelspec": {
   "display_name": "ae353",
   "language": "python",
   "name": "python3"
  },
  "language_info": {
   "codemirror_mode": {
    "name": "ipython",
    "version": 3
   },
   "file_extension": ".py",
   "mimetype": "text/x-python",
   "name": "python",
   "nbconvert_exporter": "python",
   "pygments_lexer": "ipython3",
   "version": "3.13.1"
  }
 },
 "nbformat": 4,
 "nbformat_minor": 5
}
